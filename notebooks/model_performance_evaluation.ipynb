{
 "cells": [
  {
   "cell_type": "markdown",
   "metadata": {},
   "source": [
    "# Model performance evaluation\n"
   ]
  },
  {
   "cell_type": "markdown",
   "metadata": {},
   "source": [
    "## Define basic variables first:\n",
    "* Directory variables\n",
    "* Modules to be loaded\n",
    "* Default cut selections\n",
    "\n",
    "The working directory will be the TPCwithDNN repository in order to load necessary modules. Therefore, the paths in which the figures should be stored need to be absolute paths."
   ]
  },
  {
   "cell_type": "code",
   "execution_count": null,
   "metadata": {},
   "outputs": [],
   "source": [
    "## directory variables\n",
    "working_dir = \"/lustre/alice/users/hellbaer/TPCwithDNN/tpcwithdnn/\"\n",
    "base_dir = \"/lustre/alice/users/hellbaer/NOTESData/JIRA/ATO-439/SC-33-33-180/\"\n",
    "plot_dir = base_dir + \"plots/\"\n",
    "model_dir = working_dir + \"model_repository/\"\n",
    "input_dir = \"/lustre/alice/users/mkleiner/NOTESData/JIRA/ATO-439/nobias/SC-33-33-180/\"\n",
    "import os\n",
    "os.chdir(working_dir)\n",
    "\n",
    "## import modules\n",
    "import numpy as np\n",
    "import pandas as pd\n",
    "from RootInteractive.InteractiveDrawing.bokeh.bokehDrawSA import *\n",
    "from RootInteractive.Tools.aliTreePlayer import *\n",
    "from bokeh.io import output_notebook\n",
    "output_notebook()\n",
    "\n",
    "## print outs\n",
    "print(\"Working directory: %s\" % working_dir)\n",
    "print(\"Model directory: %s\" % model_dir)\n",
    "print(\"Input directory: %s\" % input_dir)\n",
    "print(\"Storage directory: %s\" % plot_dir)\n",
    "\n",
    "\n",
    "## global plot parameters\n",
    "tooltips = [(\"r\", \"(@r)\"), (\"phi\", \"(@phi)\"), (\"sec\", \"(@sector)\"), (\"z\", \"(@z)\"), (\"nEvTrain\", \"(@nEvTrain)\")]\n",
    "figureLayout = [\n",
    "    [0, {'plot_height': 150}],\n",
    "    {'sizing_mode':'scale_width'}\n",
    "    ]\n",
    "widgetLayout = [[0,1,2], {'sizing_mode':'scale_width'}]"
   ]
  },
  {
   "cell_type": "markdown",
   "metadata": {},
   "source": [
    "<br>\n",
    "<br>\n",
    "<br>\n",
    "\n",
    "## Load trees"
   ]
  },
  {
   "cell_type": "code",
   "execution_count": null,
   "metadata": {},
   "outputs": [],
   "source": [
    "pdf_list_path = base_dir + \"pdfmaps.list\"\n",
    "tree, treeList, fileList = LoadTrees(\"cat \" + pdf_list_path, \"pdfmaps\", \"xxx\", \"\", 0)\n",
    "tree.Show(1)"
   ]
  },
  {
   "cell_type": "markdown",
   "metadata": {},
   "source": [
    "<br>\n",
    "<br>\n",
    "<br>\n",
    "\n",
    "## Distortion fluctuations: Prediction - true value"
   ]
  },
  {
   "cell_type": "markdown",
   "metadata": {},
   "source": [
    "### phi, r\n",
    "Default cuts:\n",
    "* z < 5 cm"
   ]
  },
  {
   "cell_type": "code",
   "execution_count": null,
   "metadata": {},
   "outputs": [],
   "source": [
    "## default cut selections\n",
    "selection = \"flucDistR_entries>50 && zBinCenter<5\"\n",
    "\n",
    "## load variables tree\n",
    "dfVariables = tree2Panda(tree, [\".*Center\", \".*fsector\", \".*meanMap\"], selection, exclude = [\".*pdfmaps.*\"], columnMask = [[\"BinCenter\",\"\"]])\n",
    "display(dfVariables.columns)\n",
    "\n",
    "## load performance quantities\n",
    "dfDiff = tree2Panda(tree, [\".*flucDistRDiff_means\", \".*flucDistRDiff_rmsd\"], selection, exclude = [\"pdfmaps.*\", \"fluc.*\", \".*Center\", \".*fsector\", \".*meanMap\", \".*OK\"], columnMask = [[\"pdfmaps_flucDistRDiff_means\",\"diffMean\"], [\"pdfmaps_flucDistRDiff_rmsd\",\"diffRMS\"]])\n",
    "display(dfDiff.columns)\n",
    "\n",
    "df = pd.concat([dfDiff, dfVariables], axis = 1)"
   ]
  },
  {
   "cell_type": "code",
   "execution_count": null,
   "metadata": {
    "scrolled": true
   },
   "outputs": [],
   "source": [
    "output_file(plot_dir + \"/figPerformance_flucDistRDiff_phi.html\")\n",
    "figureArraySec = [\n",
    "    [['fsector'], ['model_nEv1000_diffMean', 'model_nEv5000_diffMean', 'model_nEv10000_diffMean', 'model_nEv20000_diffMean'], {\"size\": 4}],\n",
    "    [['fsector'], ['model_nEv1000_diffRMS', 'model_nEv5000_diffRMS', 'model_nEv10000_diffRMS', 'model_nEv20000_diffRMS'], {\"size\": 4}],\n",
    "    ]\n",
    "figureLayoutSec = [\n",
    "    [0, {'plot_height': 150}],\n",
    "    [1, {'plot_height': 150}],\n",
    "    {'sizing_mode':'scale_width'}\n",
    "    ]\n",
    "widgetParamsSec = [\n",
    "    ['range', ['fsector']],\n",
    "    ['select', ['r']],\n",
    "    ['range', ['deltaSC']],\n",
    "    ['range', ['meanMap']],\n",
    "    ]\n",
    "widgetLayoutSec = [[0,1], [2,3], {'sizing_mode':'scale_width'}]\n",
    "selectionSec = \"z<5 & r<120\"\n",
    "bokehDrawSA.fromArray(df, selectionSec, figureArraySec, widgetParamsSec, layout=figureLayoutSec, tooltips=tooltips, widgetLayout=widgetLayoutSec, sizing_mode='scale_width')"
   ]
  },
  {
   "cell_type": "code",
   "execution_count": null,
   "metadata": {},
   "outputs": [],
   "source": [
    "output_file(plot_dir + \"/figPerformance_flucDistRDiff_r.html\")\n",
    "figureArrayR = [\n",
    "    [['r'], ['model_nEv1000_diffMean', 'model_nEv5000_diffMean', 'model_nEv10000_diffMean', 'model_nEv20000_diffMean'], {\"size\": 4}],\n",
    "    [['r'], ['model_nEv1000_diffRMS', 'model_nEv5000_diffRMS', 'model_nEv10000_diffRMS', 'model_nEv20000_diffRMS'], {\"size\": 4}],\n",
    "    ]\n",
    "figureLayoutR = [\n",
    "    [0, {'plot_height': 150}],\n",
    "    [1, {'plot_height': 150}],\n",
    "    {'sizing_mode':'scale_width'}\n",
    "    ]\n",
    "widgetParamsR = [\n",
    "    ['select', ['fsector']],\n",
    "    ['range', ['r']],\n",
    "    ['range', ['deltaSC']],\n",
    "    ['range', ['meanMap']],\n",
    "    ]\n",
    "widgetLayoutR = [[0,1], [2,3], {'sizing_mode': 'scale_width'}]\n",
    "selectionR = \"z<5 & abs(fsector-9.5)<0.5\"\n",
    "bokehDrawSA.fromArray(df, selectionR, figureArrayR, widgetParamsR, layout=figureLayoutR, tooltips=tooltips, widgetLayout=widgetLayoutR, sizing_mode='scale_width')"
   ]
  },
  {
   "cell_type": "code",
   "execution_count": null,
   "metadata": {},
   "outputs": [],
   "source": []
  }
 ],
 "metadata": {
  "kernelspec": {
   "display_name": "Python 3",
   "language": "python",
   "name": "python3"
  },
  "language_info": {
   "codemirror_mode": {
    "name": "ipython",
    "version": 2
   },
   "file_extension": ".py",
   "mimetype": "text/x-python",
   "name": "python",
   "nbconvert_exporter": "python",
   "pygments_lexer": "ipython2",
   "version": "2.7.17"
  }
 },
 "nbformat": 4,
 "nbformat_minor": 2
}
